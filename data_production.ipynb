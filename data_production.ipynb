{
 "cells": [
  {
   "cell_type": "code",
   "execution_count": 16,
   "metadata": {},
   "outputs": [],
   "source": [
    "import pandas as pd\n",
    "import warnings\n",
    "\n",
    "warnings.filterwarnings('ignore')"
   ]
  },
  {
   "cell_type": "code",
   "execution_count": 17,
   "metadata": {},
   "outputs": [
    {
     "data": {
      "text/html": [
       "<div>\n",
       "<style scoped>\n",
       "    .dataframe tbody tr th:only-of-type {\n",
       "        vertical-align: middle;\n",
       "    }\n",
       "\n",
       "    .dataframe tbody tr th {\n",
       "        vertical-align: top;\n",
       "    }\n",
       "\n",
       "    .dataframe thead th {\n",
       "        text-align: right;\n",
       "    }\n",
       "</style>\n",
       "<table border=\"1\" class=\"dataframe\">\n",
       "  <thead>\n",
       "    <tr style=\"text-align: right;\">\n",
       "      <th></th>\n",
       "      <th>Name</th>\n",
       "      <th>Dept</th>\n",
       "      <th>Department</th>\n",
       "      <th>System1</th>\n",
       "      <th>Production</th>\n",
       "      <th>Code</th>\n",
       "    </tr>\n",
       "  </thead>\n",
       "  <tbody>\n",
       "    <tr>\n",
       "      <th>0</th>\n",
       "      <td>Satoru Gojo</td>\n",
       "      <td>呪術廻戦</td>\n",
       "      <td>Jujutsu Kaisen</td>\n",
       "      <td>Action</td>\n",
       "      <td>Mappa</td>\n",
       "      <td>mapp</td>\n",
       "    </tr>\n",
       "    <tr>\n",
       "      <th>1</th>\n",
       "      <td>Shoko Leiri</td>\n",
       "      <td>呪術廻戦</td>\n",
       "      <td>Jujutsu Kaisen</td>\n",
       "      <td>Action</td>\n",
       "      <td>Mappa</td>\n",
       "      <td>mapp</td>\n",
       "    </tr>\n",
       "    <tr>\n",
       "      <th>2</th>\n",
       "      <td>Yuji Itadori</td>\n",
       "      <td>呪術廻戦</td>\n",
       "      <td>Jujutsu Kaisen</td>\n",
       "      <td>Action</td>\n",
       "      <td>Mappa</td>\n",
       "      <td>mapp</td>\n",
       "    </tr>\n",
       "    <tr>\n",
       "      <th>3</th>\n",
       "      <td>Megumi Fushiguro</td>\n",
       "      <td>呪術廻戦</td>\n",
       "      <td>Jujutsu Kaisen</td>\n",
       "      <td>Action</td>\n",
       "      <td>Mappa</td>\n",
       "      <td>mapp</td>\n",
       "    </tr>\n",
       "    <tr>\n",
       "      <th>4</th>\n",
       "      <td>Panda</td>\n",
       "      <td>呪術廻戦</td>\n",
       "      <td>Jujutsu Kaisen</td>\n",
       "      <td>Action</td>\n",
       "      <td>Mappa</td>\n",
       "      <td>mapp</td>\n",
       "    </tr>\n",
       "  </tbody>\n",
       "</table>\n",
       "</div>"
      ],
      "text/plain": [
       "               Name  Dept      Department System1 Production  Code\n",
       "0       Satoru Gojo  呪術廻戦  Jujutsu Kaisen  Action      Mappa  mapp\n",
       "1       Shoko Leiri  呪術廻戦  Jujutsu Kaisen  Action      Mappa  mapp\n",
       "2      Yuji Itadori  呪術廻戦  Jujutsu Kaisen  Action      Mappa  mapp\n",
       "3  Megumi Fushiguro  呪術廻戦  Jujutsu Kaisen  Action      Mappa  mapp\n",
       "4             Panda  呪術廻戦  Jujutsu Kaisen  Action      Mappa  mapp"
      ]
     },
     "execution_count": 17,
     "metadata": {},
     "output_type": "execute_result"
    }
   ],
   "source": [
    "df = pd.read_excel('manga_data.xlsx', sheet_name='Sheet1')\n",
    "df.head()"
   ]
  },
  {
   "cell_type": "code",
   "execution_count": 18,
   "metadata": {},
   "outputs": [],
   "source": [
    "# empty sheet inserttion\n",
    "df2 = pd.read_excel('manga_data.xlsx', sheet_name='Sheet2')"
   ]
  },
  {
   "cell_type": "markdown",
   "metadata": {},
   "source": [
    "# Checklist Production"
   ]
  },
  {
   "cell_type": "markdown",
   "metadata": {},
   "source": [
    "## code sheet"
   ]
  },
  {
   "cell_type": "code",
   "execution_count": 19,
   "metadata": {},
   "outputs": [
    {
     "data": {
      "text/html": [
       "<div>\n",
       "<style scoped>\n",
       "    .dataframe tbody tr th:only-of-type {\n",
       "        vertical-align: middle;\n",
       "    }\n",
       "\n",
       "    .dataframe tbody tr th {\n",
       "        vertical-align: top;\n",
       "    }\n",
       "\n",
       "    .dataframe thead th {\n",
       "        text-align: right;\n",
       "    }\n",
       "</style>\n",
       "<table border=\"1\" class=\"dataframe\">\n",
       "  <thead>\n",
       "    <tr style=\"text-align: right;\">\n",
       "      <th></th>\n",
       "      <th>Dept</th>\n",
       "      <th>Department</th>\n",
       "    </tr>\n",
       "  </thead>\n",
       "  <tbody>\n",
       "    <tr>\n",
       "      <th>0</th>\n",
       "      <td>呪術廻戦</td>\n",
       "      <td>Jujutsu Kaisen</td>\n",
       "    </tr>\n",
       "    <tr>\n",
       "      <th>6</th>\n",
       "      <td>鬼滅の刃</td>\n",
       "      <td>Kimetsu no Yaiba</td>\n",
       "    </tr>\n",
       "    <tr>\n",
       "      <th>10</th>\n",
       "      <td>五等分の花嫁</td>\n",
       "      <td>5Toubun no Hanayome</td>\n",
       "    </tr>\n",
       "    <tr>\n",
       "      <th>15</th>\n",
       "      <td>盾の勇者の成り上がり</td>\n",
       "      <td>The Rising of the Shield Hero</td>\n",
       "    </tr>\n",
       "    <tr>\n",
       "      <th>19</th>\n",
       "      <td>転生したらスライムだった件</td>\n",
       "      <td>That Time I Got Reincarnated as a Slime</td>\n",
       "    </tr>\n",
       "  </tbody>\n",
       "</table>\n",
       "</div>"
      ],
      "text/plain": [
       "             Dept                               Department\n",
       "0            呪術廻戦                           Jujutsu Kaisen\n",
       "6            鬼滅の刃                         Kimetsu no Yaiba\n",
       "10         五等分の花嫁                      5Toubun no Hanayome\n",
       "15     盾の勇者の成り上がり            The Rising of the Shield Hero\n",
       "19  転生したらスライムだった件  That Time I Got Reincarnated as a Slime"
      ]
     },
     "execution_count": 19,
     "metadata": {},
     "output_type": "execute_result"
    }
   ],
   "source": [
    "checklist = df[['Dept', 'Department']].drop_duplicates()\n",
    "checklist.head()"
   ]
  },
  {
   "cell_type": "code",
   "execution_count": 20,
   "metadata": {},
   "outputs": [
    {
     "data": {
      "text/html": [
       "<div>\n",
       "<style scoped>\n",
       "    .dataframe tbody tr th:only-of-type {\n",
       "        vertical-align: middle;\n",
       "    }\n",
       "\n",
       "    .dataframe tbody tr th {\n",
       "        vertical-align: top;\n",
       "    }\n",
       "\n",
       "    .dataframe thead th {\n",
       "        text-align: right;\n",
       "    }\n",
       "</style>\n",
       "<table border=\"1\" class=\"dataframe\">\n",
       "  <thead>\n",
       "    <tr style=\"text-align: right;\">\n",
       "      <th></th>\n",
       "      <th>Department</th>\n",
       "      <th>Dept Code</th>\n",
       "    </tr>\n",
       "  </thead>\n",
       "  <tbody>\n",
       "    <tr>\n",
       "      <th>0</th>\n",
       "      <td>Jujutsu Kaisen</td>\n",
       "      <td>呪術廻戦</td>\n",
       "    </tr>\n",
       "    <tr>\n",
       "      <th>1</th>\n",
       "      <td>Kimetsu no Yaiba</td>\n",
       "      <td>鬼滅の刃</td>\n",
       "    </tr>\n",
       "    <tr>\n",
       "      <th>2</th>\n",
       "      <td>5Toubun no Hanayome</td>\n",
       "      <td>五等分の花嫁</td>\n",
       "    </tr>\n",
       "    <tr>\n",
       "      <th>3</th>\n",
       "      <td>The Rising of the Shield Hero</td>\n",
       "      <td>盾の勇者の成り上がり</td>\n",
       "    </tr>\n",
       "    <tr>\n",
       "      <th>4</th>\n",
       "      <td>That Time I Got Reincarnated as a Slime</td>\n",
       "      <td>転生したらスライムだった件</td>\n",
       "    </tr>\n",
       "  </tbody>\n",
       "</table>\n",
       "</div>"
      ],
      "text/plain": [
       "                                Department      Dept Code\n",
       "0                           Jujutsu Kaisen           呪術廻戦\n",
       "1                         Kimetsu no Yaiba           鬼滅の刃\n",
       "2                      5Toubun no Hanayome         五等分の花嫁\n",
       "3            The Rising of the Shield Hero     盾の勇者の成り上がり\n",
       "4  That Time I Got Reincarnated as a Slime  転生したらスライムだった件"
      ]
     },
     "execution_count": 20,
     "metadata": {},
     "output_type": "execute_result"
    }
   ],
   "source": [
    "# reorder\n",
    "checklist = checklist[['Department', 'Dept']]\n",
    "\n",
    "# rename\n",
    "checklist.columns = ['Department', 'Dept Code']\n",
    "\n",
    "# reset index\n",
    "checklist.reset_index(drop=True, inplace=True)\n",
    "checklist.head()"
   ]
  },
  {
   "cell_type": "markdown",
   "metadata": {},
   "source": [
    "## cube sheet"
   ]
  },
  {
   "cell_type": "code",
   "execution_count": 21,
   "metadata": {},
   "outputs": [
    {
     "data": {
      "text/html": [
       "<div>\n",
       "<style scoped>\n",
       "    .dataframe tbody tr th:only-of-type {\n",
       "        vertical-align: middle;\n",
       "    }\n",
       "\n",
       "    .dataframe tbody tr th {\n",
       "        vertical-align: top;\n",
       "    }\n",
       "\n",
       "    .dataframe thead th {\n",
       "        text-align: right;\n",
       "    }\n",
       "</style>\n",
       "<table border=\"1\" class=\"dataframe\">\n",
       "  <thead>\n",
       "    <tr style=\"text-align: right;\">\n",
       "      <th></th>\n",
       "      <th>Production</th>\n",
       "      <th>Code</th>\n",
       "    </tr>\n",
       "  </thead>\n",
       "  <tbody>\n",
       "    <tr>\n",
       "      <th>0</th>\n",
       "      <td>Mappa</td>\n",
       "      <td>mapp</td>\n",
       "    </tr>\n",
       "    <tr>\n",
       "      <th>6</th>\n",
       "      <td>ufotable</td>\n",
       "      <td>ufot</td>\n",
       "    </tr>\n",
       "    <tr>\n",
       "      <th>10</th>\n",
       "      <td>Tezuka Productions</td>\n",
       "      <td>tezu</td>\n",
       "    </tr>\n",
       "    <tr>\n",
       "      <th>15</th>\n",
       "      <td>Kinema Citrus</td>\n",
       "      <td>kine</td>\n",
       "    </tr>\n",
       "    <tr>\n",
       "      <th>19</th>\n",
       "      <td>8bit</td>\n",
       "      <td>8bit</td>\n",
       "    </tr>\n",
       "  </tbody>\n",
       "</table>\n",
       "</div>"
      ],
      "text/plain": [
       "            Production  Code\n",
       "0                Mappa  mapp\n",
       "6             ufotable  ufot\n",
       "10  Tezuka Productions  tezu\n",
       "15       Kinema Citrus  kine\n",
       "19                8bit  8bit"
      ]
     },
     "execution_count": 21,
     "metadata": {},
     "output_type": "execute_result"
    }
   ],
   "source": [
    "checklist1 = df[['Production', 'Code']].drop_duplicates()\n",
    "checklist1.head()"
   ]
  },
  {
   "cell_type": "code",
   "execution_count": 22,
   "metadata": {},
   "outputs": [
    {
     "data": {
      "text/html": [
       "<div>\n",
       "<style scoped>\n",
       "    .dataframe tbody tr th:only-of-type {\n",
       "        vertical-align: middle;\n",
       "    }\n",
       "\n",
       "    .dataframe tbody tr th {\n",
       "        vertical-align: top;\n",
       "    }\n",
       "\n",
       "    .dataframe thead th {\n",
       "        text-align: right;\n",
       "    }\n",
       "</style>\n",
       "<table border=\"1\" class=\"dataframe\">\n",
       "  <thead>\n",
       "    <tr style=\"text-align: right;\">\n",
       "      <th></th>\n",
       "      <th>cube</th>\n",
       "      <th>cube_name</th>\n",
       "    </tr>\n",
       "  </thead>\n",
       "  <tbody>\n",
       "    <tr>\n",
       "      <th>0</th>\n",
       "      <td>mapp</td>\n",
       "      <td>Mappa</td>\n",
       "    </tr>\n",
       "    <tr>\n",
       "      <th>1</th>\n",
       "      <td>ufot</td>\n",
       "      <td>ufotable</td>\n",
       "    </tr>\n",
       "    <tr>\n",
       "      <th>2</th>\n",
       "      <td>tezu</td>\n",
       "      <td>Tezuka Productions</td>\n",
       "    </tr>\n",
       "    <tr>\n",
       "      <th>3</th>\n",
       "      <td>kine</td>\n",
       "      <td>Kinema Citrus</td>\n",
       "    </tr>\n",
       "    <tr>\n",
       "      <th>4</th>\n",
       "      <td>8bit</td>\n",
       "      <td>8bit</td>\n",
       "    </tr>\n",
       "  </tbody>\n",
       "</table>\n",
       "</div>"
      ],
      "text/plain": [
       "   cube           cube_name\n",
       "0  mapp               Mappa\n",
       "1  ufot            ufotable\n",
       "2  tezu  Tezuka Productions\n",
       "3  kine       Kinema Citrus\n",
       "4  8bit                8bit"
      ]
     },
     "execution_count": 22,
     "metadata": {},
     "output_type": "execute_result"
    }
   ],
   "source": [
    "# reorder\n",
    "checklist1 = checklist1[['Code', 'Production']]\n",
    "\n",
    "# rename\n",
    "checklist1.columns = ['cube', 'cube_name']\n",
    "\n",
    "# reset index\n",
    "checklist1.reset_index(drop=True, inplace=True)\n",
    "checklist1.head()"
   ]
  },
  {
   "cell_type": "code",
   "execution_count": 23,
   "metadata": {},
   "outputs": [],
   "source": [
    "# export\n",
    "with pd.ExcelWriter('checklist.xlsx') as writer:  \n",
    "    checklist.to_excel(writer, sheet_name='code', index=False)\n",
    "    checklist1.to_excel(writer, sheet_name='cube', index=False)"
   ]
  },
  {
   "cell_type": "markdown",
   "metadata": {},
   "source": [
    "# HR Data Production"
   ]
  },
  {
   "cell_type": "code",
   "execution_count": 24,
   "metadata": {},
   "outputs": [
    {
     "data": {
      "text/html": [
       "<div>\n",
       "<style scoped>\n",
       "    .dataframe tbody tr th:only-of-type {\n",
       "        vertical-align: middle;\n",
       "    }\n",
       "\n",
       "    .dataframe tbody tr th {\n",
       "        vertical-align: top;\n",
       "    }\n",
       "\n",
       "    .dataframe thead th {\n",
       "        text-align: right;\n",
       "    }\n",
       "</style>\n",
       "<table border=\"1\" class=\"dataframe\">\n",
       "  <thead>\n",
       "    <tr style=\"text-align: right;\">\n",
       "      <th></th>\n",
       "      <th>LAN ID</th>\n",
       "      <th>Name</th>\n",
       "      <th>Dept</th>\n",
       "      <th>Department</th>\n",
       "    </tr>\n",
       "  </thead>\n",
       "  <tbody>\n",
       "    <tr>\n",
       "      <th>0</th>\n",
       "      <td>satorugojo</td>\n",
       "      <td>Satoru Gojo</td>\n",
       "      <td>呪術廻戦</td>\n",
       "      <td>Jujutsu Kaisen</td>\n",
       "    </tr>\n",
       "    <tr>\n",
       "      <th>1</th>\n",
       "      <td>shokoleiri</td>\n",
       "      <td>Shoko Leiri</td>\n",
       "      <td>呪術廻戦</td>\n",
       "      <td>Jujutsu Kaisen</td>\n",
       "    </tr>\n",
       "    <tr>\n",
       "      <th>2</th>\n",
       "      <td>yujiitadori</td>\n",
       "      <td>Yuji Itadori</td>\n",
       "      <td>呪術廻戦</td>\n",
       "      <td>Jujutsu Kaisen</td>\n",
       "    </tr>\n",
       "    <tr>\n",
       "      <th>3</th>\n",
       "      <td>megumifushiguro</td>\n",
       "      <td>Megumi Fushiguro</td>\n",
       "      <td>呪術廻戦</td>\n",
       "      <td>Jujutsu Kaisen</td>\n",
       "    </tr>\n",
       "    <tr>\n",
       "      <th>4</th>\n",
       "      <td>panda</td>\n",
       "      <td>Panda</td>\n",
       "      <td>呪術廻戦</td>\n",
       "      <td>Jujutsu Kaisen</td>\n",
       "    </tr>\n",
       "  </tbody>\n",
       "</table>\n",
       "</div>"
      ],
      "text/plain": [
       "            LAN ID              Name  Dept      Department\n",
       "0       satorugojo       Satoru Gojo  呪術廻戦  Jujutsu Kaisen\n",
       "1       shokoleiri       Shoko Leiri  呪術廻戦  Jujutsu Kaisen\n",
       "2      yujiitadori      Yuji Itadori  呪術廻戦  Jujutsu Kaisen\n",
       "3  megumifushiguro  Megumi Fushiguro  呪術廻戦  Jujutsu Kaisen\n",
       "4            panda             Panda  呪術廻戦  Jujutsu Kaisen"
      ]
     },
     "execution_count": 24,
     "metadata": {},
     "output_type": "execute_result"
    }
   ],
   "source": [
    "# get data\n",
    "hr = df[['Name','Dept', 'Department']]\n",
    "\n",
    "# get id\n",
    "id = df['Name'].str.lower().str.replace(' ', '')\n",
    "\n",
    "hr['LAN ID'] = id\n",
    "\n",
    "# reorder\n",
    "hr = hr[['LAN ID', 'Name', 'Dept', 'Department']]\n",
    "hr.head()"
   ]
  },
  {
   "cell_type": "code",
   "execution_count": 25,
   "metadata": {},
   "outputs": [
    {
     "data": {
      "text/plain": [
       "278"
      ]
     },
     "execution_count": 25,
     "metadata": {},
     "output_type": "execute_result"
    }
   ],
   "source": [
    "# check uniqueness\n",
    "hr['LAN ID'].unique().shape[0]"
   ]
  },
  {
   "cell_type": "code",
   "execution_count": 26,
   "metadata": {},
   "outputs": [
    {
     "data": {
      "text/plain": [
       "278"
      ]
     },
     "execution_count": 26,
     "metadata": {},
     "output_type": "execute_result"
    }
   ],
   "source": [
    "len(hr['LAN ID'])"
   ]
  },
  {
   "cell_type": "code",
   "execution_count": 27,
   "metadata": {},
   "outputs": [],
   "source": [
    "# export the data\n",
    "with pd.ExcelWriter('hr.xlsx') as writer:\n",
    "    df2.to_excel(writer, sheet_name='Sheet2', index=False)\n",
    "    hr.to_excel(writer, index=False)"
   ]
  },
  {
   "cell_type": "markdown",
   "metadata": {},
   "source": [
    "## System Data Production"
   ]
  },
  {
   "cell_type": "code",
   "execution_count": 28,
   "metadata": {},
   "outputs": [
    {
     "data": {
      "text/plain": [
       "array(['Action', 'Adventure', 'Romance', 'Isekai', 'Drama', 'Horror',\n",
       "       'Slice of Life', 'Comedy', 'Sci-Fi'], dtype=object)"
      ]
     },
     "execution_count": 28,
     "metadata": {},
     "output_type": "execute_result"
    }
   ],
   "source": [
    "system = df['System1'].unique()\n",
    "system"
   ]
  },
  {
   "cell_type": "code",
   "execution_count": 29,
   "metadata": {},
   "outputs": [
    {
     "data": {
      "text/html": [
       "<div>\n",
       "<style scoped>\n",
       "    .dataframe tbody tr th:only-of-type {\n",
       "        vertical-align: middle;\n",
       "    }\n",
       "\n",
       "    .dataframe tbody tr th {\n",
       "        vertical-align: top;\n",
       "    }\n",
       "\n",
       "    .dataframe thead th {\n",
       "        text-align: right;\n",
       "    }\n",
       "</style>\n",
       "<table border=\"1\" class=\"dataframe\">\n",
       "  <thead>\n",
       "    <tr style=\"text-align: right;\">\n",
       "      <th></th>\n",
       "      <th>User ID</th>\n",
       "      <th>Name</th>\n",
       "      <th>System1</th>\n",
       "      <th>role code</th>\n",
       "    </tr>\n",
       "  </thead>\n",
       "  <tbody>\n",
       "    <tr>\n",
       "      <th>0</th>\n",
       "      <td>satorugojo</td>\n",
       "      <td>Satoru Gojo</td>\n",
       "      <td>Action</td>\n",
       "      <td>mapp</td>\n",
       "    </tr>\n",
       "    <tr>\n",
       "      <th>1</th>\n",
       "      <td>shokoleiri</td>\n",
       "      <td>Shoko Leiri</td>\n",
       "      <td>Action</td>\n",
       "      <td>mapp</td>\n",
       "    </tr>\n",
       "    <tr>\n",
       "      <th>2</th>\n",
       "      <td>yujiitadori</td>\n",
       "      <td>Yuji Itadori</td>\n",
       "      <td>Action</td>\n",
       "      <td>mapp</td>\n",
       "    </tr>\n",
       "    <tr>\n",
       "      <th>3</th>\n",
       "      <td>megumifushiguro</td>\n",
       "      <td>Megumi Fushiguro</td>\n",
       "      <td>Action</td>\n",
       "      <td>mapp</td>\n",
       "    </tr>\n",
       "    <tr>\n",
       "      <th>4</th>\n",
       "      <td>panda</td>\n",
       "      <td>Panda</td>\n",
       "      <td>Action</td>\n",
       "      <td>mapp</td>\n",
       "    </tr>\n",
       "  </tbody>\n",
       "</table>\n",
       "</div>"
      ],
      "text/plain": [
       "           User ID              Name System1 role code\n",
       "0       satorugojo       Satoru Gojo  Action      mapp\n",
       "1       shokoleiri       Shoko Leiri  Action      mapp\n",
       "2      yujiitadori      Yuji Itadori  Action      mapp\n",
       "3  megumifushiguro  Megumi Fushiguro  Action      mapp\n",
       "4            panda             Panda  Action      mapp"
      ]
     },
     "execution_count": 29,
     "metadata": {},
     "output_type": "execute_result"
    }
   ],
   "source": [
    "df['User ID'] = id\n",
    "df = df.drop(['Dept', 'Department', 'Production'], axis = 1)\n",
    "df = df[['User ID', 'Name', 'System1', 'Code']]\n",
    "df.columns = ['User ID', 'Name', 'System1', 'role code']\n",
    "df.head()"
   ]
  },
  {
   "cell_type": "code",
   "execution_count": 30,
   "metadata": {},
   "outputs": [],
   "source": [
    "for i in range(0, len(system)):\n",
    "    # filter the dataframe by dept\n",
    "    filter = df[df['System1'] == system[i]]\n",
    "    # name the file using department code\n",
    "    systemName = system[i].upper()\n",
    "    # export the file\n",
    "    filter.to_excel('sys_' +systemName + '.xlsx', index=False, sheet_name=systemName)"
   ]
  }
 ],
 "metadata": {
  "kernelspec": {
   "display_name": "Python 3",
   "language": "python",
   "name": "python3"
  },
  "language_info": {
   "codemirror_mode": {
    "name": "ipython",
    "version": 3
   },
   "file_extension": ".py",
   "mimetype": "text/x-python",
   "name": "python",
   "nbconvert_exporter": "python",
   "pygments_lexer": "ipython3",
   "version": "3.11.4"
  },
  "orig_nbformat": 4
 },
 "nbformat": 4,
 "nbformat_minor": 2
}
